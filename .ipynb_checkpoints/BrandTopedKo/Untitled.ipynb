{
 "cells": [
  {
   "cell_type": "code",
   "execution_count": 1,
   "id": "08cea7a9-0ab6-4c61-abfb-0f505942862f",
   "metadata": {},
   "outputs": [
    {
     "name": "stdout",
     "output_type": "stream",
     "text": [
      "Data pencarian telah disimpan di folder 'Existing Folder' dengan nama file coolermasterTopedKO.xlsx\n"
     ]
    }
   ],
   "source": [
    "import os\n",
    "import pandas as pd\n",
    "\n",
    "# Specify the existing folder path\n",
    "folder_path = \"Jess\"\n",
    "\n",
    "# List of file names\n",
    "file_names = [\"AOCTopedKb.xlsx\"]\n",
    "\n",
    "# Empty DataFrame to store the matching results\n",
    "matching_data = pd.DataFrame()\n",
    "\n",
    "# Iterate over each file\n",
    "for file_name in file_names:\n",
    "    # Read the Excel file\n",
    "    df = pd.read_excel(file_name)\n",
    "    \n",
    "    # Remove rows with NaN values in the \"Nama Produk\" column\n",
    "    df = df.dropna(subset=[\"SKU Name\"])\n",
    "    \n",
    "    # Search for data containing \"aoc\" in the \"Nama Produk\" column\n",
    "    matching_rows = df[df[\"SKU Name\"].str.contains(\"021\", case=False)]\n",
    "    \n",
    "    # Concatenate the matching rows to the overall matching_data DataFrame\n",
    "    matching_data = pd.concat([matching_data, matching_rows])\n",
    "\n",
    "# Save the matching data to a new Excel file in the existing folder\n",
    "output_file = os.path.join(folder_path, \"021-AOC.xlsx\")\n",
    "matching_data.to_excel(output_file, index=False)\n",
    "\n",
    "print(\"Data pencarian telah disimpan di folder 'Existing Folder' dengan nama file coolermasterTopedKO.xlsx\")\n"
   ]
  },
  {
   "cell_type": "code",
   "execution_count": null,
   "id": "0c6a048a-452a-4660-8a3f-05907161d5e8",
   "metadata": {},
   "outputs": [],
   "source": []
  }
 ],
 "metadata": {
  "kernelspec": {
   "display_name": "Python 3 (ipykernel)",
   "language": "python",
   "name": "python3"
  },
  "language_info": {
   "codemirror_mode": {
    "name": "ipython",
    "version": 3
   },
   "file_extension": ".py",
   "mimetype": "text/x-python",
   "name": "python",
   "nbconvert_exporter": "python",
   "pygments_lexer": "ipython3",
   "version": "3.11.3"
  }
 },
 "nbformat": 4,
 "nbformat_minor": 5
}
