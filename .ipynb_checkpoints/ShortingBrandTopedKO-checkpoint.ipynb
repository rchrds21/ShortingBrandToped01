{
 "cells": [
  {
   "cell_type": "code",
   "execution_count": 16,
   "id": "cdf62e76-075c-477c-afa3-c3315f609502",
   "metadata": {},
   "outputs": [
    {
     "name": "stdout",
     "output_type": "stream",
     "text": [
      "Data pencarian telah disimpan di folder 'New Folder' dengan nama file coolermasterTopedKO.xlsx\n"
     ]
    }
   ],
   "source": [
    "import os\n",
    "import pandas as pd\n",
    "\n",
    "# Create the new folder if it doesn't exist\n",
    "new_folder = \"TOPED KO\"\n",
    "os.makedirs(new_folder, exist_ok=True)\n",
    "\n",
    "# List of file names\n",
    "file_names = [\"KOToped01.xlsx\", \"KOToped02.xlsx\", \"KOToped03.xlsx\", \"KOToped04.xlsx\", \"KOToped05.xlsx\", \"KOToped06.xlsx\", \"KOToped07.xlsx\", \"KOToped08.xlsx\", \"KOToped09.xlsx\", \"KOToped10.xlsx\", \"KOToped11.xlsx\"]\n",
    "\n",
    "# Empty DataFrame to store the matching results\n",
    "matching_data = pd.DataFrame()\n",
    "\n",
    "# Iterate over each file\n",
    "for file_name in file_names:\n",
    "    # Read the Excel file\n",
    "    df = pd.read_excel(file_name)\n",
    "    \n",
    "    # Remove rows with NaN values in the \"Nama Produk\" column\n",
    "    df = df.dropna(subset=[\"Nama Produk\"])\n",
    "    \n",
    "    # Search for data containing \"cooler master\" in the \"Nama Produk\" column\n",
    "    matching_rows = df[df[\"Nama Produk\"].str.contains(\"cooler master\", case=False)]\n",
    "    \n",
    "    # Concatenate the matching rows to the overall matching_data DataFrame\n",
    "    matching_data = pd.concat([matching_data, matching_rows])\n",
    "\n",
    "# Save the matching data to a new Excel file in the new folder\n",
    "output_file = os.path.join(new_folder, \"coolermasterTopedKO.xlsx\")\n",
    "matching_data.to_excel(output_file, index=False)\n",
    "\n",
    "print(\"Data pencarian telah disimpan di folder 'New Folder' dengan nama file coolermasterTopedKO.xlsx\")\n"
   ]
  },
  {
   "cell_type": "code",
   "execution_count": 17,
   "id": "71c4e3b2-ba8f-4a8d-aa87-502120f8cc39",
   "metadata": {},
   "outputs": [
    {
     "name": "stdout",
     "output_type": "stream",
     "text": [
      "Data pencarian telah disimpan di folder 'Existing Folder' dengan nama file coolermasterTopedKO.xlsx\n"
     ]
    }
   ],
   "source": [
    "import os\n",
    "import pandas as pd\n",
    "\n",
    "# Specify the existing folder path\n",
    "folder_path = \"Toped_KO\"\n",
    "\n",
    "# List of file names\n",
    "file_names = [\"KOToped01.xlsx\", \"KOToped02.xlsx\", \"KOToped03.xlsx\", \"KOToped04.xlsx\", \"KOToped05.xlsx\", \"KOToped06.xlsx\", \"KOToped07.xlsx\", \"KOToped08.xlsx\", \"KOToped09.xlsx\", \"KOToped10.xlsx\", \"KOToped11.xlsx\"]\n",
    "\n",
    "# Empty DataFrame to store the matching results\n",
    "matching_data = pd.DataFrame()\n",
    "\n",
    "# Iterate over each file\n",
    "for file_name in file_names:\n",
    "    # Read the Excel file\n",
    "    df = pd.read_excel(file_name)\n",
    "    \n",
    "    # Remove rows with NaN values in the \"Nama Produk\" column\n",
    "    df = df.dropna(subset=[\"Nama Produk\"])\n",
    "    \n",
    "    # Search for data containing \"cooler master\" in the \"Nama Produk\" column\n",
    "    matching_rows = df[df[\"Nama Produk\"].str.contains(\"cooler master\", case=False)]\n",
    "    \n",
    "    # Concatenate the matching rows to the overall matching_data DataFrame\n",
    "    matching_data = pd.concat([matching_data, matching_rows])\n",
    "\n",
    "# Save the matching data to a new Excel file in the existing folder\n",
    "output_file = os.path.join(folder_path, \"coolermasterTopedKO.xlsx\")\n",
    "matching_data.to_excel(output_file, index=False)\n",
    "\n",
    "print(\"Data pencarian telah disimpan di folder 'Existing Folder' dengan nama file coolermasterTopedKO.xlsx\")\n"
   ]
  },
  {
   "cell_type": "code",
   "execution_count": null,
   "id": "c4c53bfd-f0b2-4fb6-98da-1e276b2843f2",
   "metadata": {},
   "outputs": [],
   "source": []
  }
 ],
 "metadata": {
  "kernelspec": {
   "display_name": "Python 3 (ipykernel)",
   "language": "python",
   "name": "python3"
  },
  "language_info": {
   "codemirror_mode": {
    "name": "ipython",
    "version": 3
   },
   "file_extension": ".py",
   "mimetype": "text/x-python",
   "name": "python",
   "nbconvert_exporter": "python",
   "pygments_lexer": "ipython3",
   "version": "3.11.3"
  }
 },
 "nbformat": 4,
 "nbformat_minor": 5
}
